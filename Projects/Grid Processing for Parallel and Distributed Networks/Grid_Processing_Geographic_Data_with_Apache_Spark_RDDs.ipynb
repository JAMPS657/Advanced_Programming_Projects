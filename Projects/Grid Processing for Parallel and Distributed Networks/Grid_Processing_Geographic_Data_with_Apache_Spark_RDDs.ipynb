{
 "cells": [
  {
   "cell_type": "markdown",
   "metadata": {},
   "source": [
    "# Grid Processing Geographic Data with Apache Spark RDDs\n",
    "### Author: Andrew J. Otis"
   ]
  },
  {
   "cell_type": "code",
   "execution_count": 0,
   "metadata": {
    "application/vnd.databricks.v1+cell": {
     "cellMetadata": {
      "byteLimit": 2048000,
      "rowLimit": 10000
     },
     "inputWidgets": {},
     "nuid": "78d5b425-7a7e-44a7-a24e-c637ffcb0038",
     "showTitle": false,
     "title": ""
    }
   },
   "outputs": [],
   "source": [
    "# Instantiate the spark module \n",
    "sc = spark.sparkContext\n"
   ]
  },
  {
   "cell_type": "code",
   "execution_count": 0,
   "metadata": {
    "application/vnd.databricks.v1+cell": {
     "cellMetadata": {
      "byteLimit": 2048000,
      "rowLimit": 10000
     },
     "inputWidgets": {},
     "nuid": "16ec59eb-4687-45f5-8725-bfec87c827c1",
     "showTitle": false,
     "title": ""
    }
   },
   "outputs": [
    {
     "name": "stdout",
     "output_type": "stream",
     "text": [
      "Out[2]: [FileInfo(path='dbfs:/FileStore/tables/AllstarFull.csv', name='AllstarFull.csv', size=208224, modificationTime=1683156887000),\n",
      " FileInfo(path='dbfs:/FileStore/tables/Master.csv', name='Master.csv', size=2470871, modificationTime=1682973217000),\n",
      " FileInfo(path='dbfs:/FileStore/tables/Teams.csv', name='Teams.csv', size=550073, modificationTime=1683156887000),\n",
      " FileInfo(path='dbfs:/FileStore/tables/fullLab3data0.txt', name='fullLab3data0.txt', size=3347768, modificationTime=1681853689000),\n",
      " FileInfo(path='dbfs:/FileStore/tables/fullLab3data1.txt', name='fullLab3data1.txt', size=3405715, modificationTime=1681853689000),\n",
      " FileInfo(path='dbfs:/FileStore/tables/fullLab3data2.txt', name='fullLab3data2.txt', size=3418525, modificationTime=1681853692000),\n",
      " FileInfo(path='dbfs:/FileStore/tables/fullLab3data3.txt', name='fullLab3data3.txt', size=3386848, modificationTime=1681853692000),\n",
      " FileInfo(path='dbfs:/FileStore/tables/geoPoints0.csv', name='geoPoints0.csv', size=215, modificationTime=1683667205000),\n",
      " FileInfo(path='dbfs:/FileStore/tables/geoPoints1.csv', name='geoPoints1.csv', size=212, modificationTime=1683667205000),\n",
      " FileInfo(path='dbfs:/FileStore/tables/hearttesting.csv', name='hearttesting.csv', size=1868, modificationTime=1683156802000),\n",
      " FileInfo(path='dbfs:/FileStore/tables/hearttraining.csv', name='hearttraining.csv', size=1913, modificationTime=1683156802000),\n",
      " FileInfo(path='dbfs:/FileStore/tables/lab3full/', name='lab3full/', size=0, modificationTime=0),\n",
      " FileInfo(path='dbfs:/FileStore/tables/lab3short/', name='lab3short/', size=0, modificationTime=0),\n",
      " FileInfo(path='dbfs:/FileStore/tables/lab5/', name='lab5/', size=0, modificationTime=0),\n",
      " FileInfo(path='dbfs:/FileStore/tables/lab6/', name='lab6/', size=0, modificationTime=0),\n",
      " FileInfo(path='dbfs:/FileStore/tables/quiz5/', name='quiz5/', size=0, modificationTime=0),\n",
      " FileInfo(path='dbfs:/FileStore/tables/quiz5_table.csv', name='quiz5_table.csv', size=118, modificationTime=1682719407000),\n",
      " FileInfo(path='dbfs:/FileStore/tables/shortLab3data0.txt', name='shortLab3data0.txt', size=577, modificationTime=1681850193000),\n",
      " FileInfo(path='dbfs:/FileStore/tables/shortLab3data1.txt', name='shortLab3data1.txt', size=527, modificationTime=1681850193000)]"
     ]
    }
   ],
   "source": [
    "# Checking current files in main DataBricks directory\n",
    "dbutils.fs.ls (\"/FileStore/tables/\")\n"
   ]
  },
  {
   "cell_type": "code",
   "execution_count": 0,
   "metadata": {
    "application/vnd.databricks.v1+cell": {
     "cellMetadata": {
      "byteLimit": 2048000,
      "rowLimit": 10000
     },
     "inputWidgets": {},
     "nuid": "65996689-7da4-40f9-bc8d-937d0c4a58e1",
     "showTitle": false,
     "title": ""
    }
   },
   "outputs": [
    {
     "name": "stdout",
     "output_type": "stream",
     "text": [
      "Out[3]: True"
     ]
    }
   ],
   "source": [
    "# Make a directory for relevant assignment1 files <---- only needs to be ran once\n",
    "#dbutils.fs.mkdirs(\"FileStore/tables/assignment1\")\n"
   ]
  },
  {
   "cell_type": "code",
   "execution_count": 0,
   "metadata": {
    "application/vnd.databricks.v1+cell": {
     "cellMetadata": {
      "byteLimit": 2048000,
      "rowLimit": 10000
     },
     "inputWidgets": {},
     "nuid": "023d31d6-ad2e-439a-8796-caf07a297e9a",
     "showTitle": false,
     "title": ""
    }
   },
   "outputs": [
    {
     "name": "stdout",
     "output_type": "stream",
     "text": [
      "Out[4]: True"
     ]
    }
   ],
   "source": [
    "# Copy files from one directory to another <---- only needs to be ran once\n",
    "#dbutils.fs.cp(\"dbfs:/FileStore/tables/geoPoints0.csv\", \"dbfs:/FileStore/tables/assignment1/geoPoints0.csv\")\n",
    "\n",
    "#dbutils.fs.cp(\"dbfs:/FileStore/tables/geoPoints1.csv\", \"dbfs:/FileStore/tables/assignment1/geoPoints1.csv\")\n"
   ]
  },
  {
   "cell_type": "code",
   "execution_count": 0,
   "metadata": {
    "application/vnd.databricks.v1+cell": {
     "cellMetadata": {
      "byteLimit": 2048000,
      "rowLimit": 10000
     },
     "inputWidgets": {},
     "nuid": "3f798511-94dd-44dc-a348-e3d9045ef33f",
     "showTitle": false,
     "title": ""
    }
   },
   "outputs": [
    {
     "name": "stdout",
     "output_type": "stream",
     "text": [
      "Out[2]: [FileInfo(path='dbfs:/FileStore/tables/assignment1/geoPoints0.csv', name='geoPoints0.csv', size=215, modificationTime=1683667392000),\n",
      " FileInfo(path='dbfs:/FileStore/tables/assignment1/geoPoints1.csv', name='geoPoints1.csv', size=212, modificationTime=1683667393000)]"
     ]
    }
   ],
   "source": [
    "# Verify that relevant data is in the desired directory\n",
    "dbutils.fs.ls (\"/FileStore/tables/assignment1\")\n"
   ]
  },
  {
   "cell_type": "markdown",
   "metadata": {},
   "source": [
    "## Brute Force Method \n",
    "##### (i.e.) w/o using Grid Cells"
   ]
  },
  {
   "cell_type": "code",
   "execution_count": 0,
   "metadata": {
    "application/vnd.databricks.v1+cell": {
     "cellMetadata": {
      "byteLimit": 2048000,
      "rowLimit": 10000
     },
     "inputWidgets": {},
     "nuid": "8fae0978-4083-4832-9d63-56f5e3c5ef5a",
     "showTitle": false,
     "title": ""
    }
   },
   "outputs": [
    {
     "name": "stdout",
     "output_type": "stream",
     "text": [
      "Distance = 0.75\n",
      "\n",
      "8 [('Pt01', 'Pt14'), ('Pt01', 'Pt15'), ('Pt03', 'Pt10'), ('Pt05', 'Pt07'), ('Pt05', 'Pt15'), ('Pt06', 'Pt09'), ('Pt07', 'Pt15'), ('Pt11', 'Pt17')]\n"
     ]
    }
   ],
   "source": [
    "import math\n",
    "import itertools\n",
    "\n",
    "# Threshold distance as described in assignment description\n",
    "threshold_distance = 0.75\n",
    "\n",
    "# Read data from CSV files from the DataBricks directory\n",
    "files = sc.textFile(\"dbfs:/FileStore/tables/assignment1\")\n",
    "\n",
    "# A function that takes a row(i.e. line) of a csv file and returns each element as a tuple with the appropriate data type\n",
    "def parse_csv_line(files_line):\n",
    "    id, x, y = files_line.split(\",\")\n",
    "    return (id, float(x), float(y))\n",
    "\n",
    "# Turn the tuples created from the \"parse_csv_line\" function into point representation using \".map\" and assigned to a variable so that \".collect\" can be used \n",
    "points = files.map(parse_csv_line)\n",
    "\n",
    "# Using \".collect\" retrieve the \"points\" variable as a list and labeling it \"pts\"\n",
    "pts = points.collect()\n",
    "\n",
    "# A function to calculate the eucledean distance between two points\n",
    "def calculate_distance(point1, point2):\n",
    "    return math.sqrt((point1[1] - point2[1]) ** 2 + (point1[2] - point2[2]) ** 2)\n",
    "\n",
    "# Using list comprehensions and itertools find point pairs (i.e. points within the threshold distance of one another). \n",
    "# \"point_pair\" is a variable representative of all possible combinations of points from the list \"pts\", where those combinations are then filtered down to points that are less than or equal to the \"threshold_distance\" (i.e. within proximity based on set threshold_distance)\n",
    "point_pair = [(p1[0], p2[0]) for p1, p2 in itertools.combinations(pts, 2) if calculate_distance(p1, p2) <= threshold_distance]\n",
    "\n",
    "# Printing set threshold_distance and the number of point pairs which are next to the actual values\n",
    "print(\"Distance =\", threshold_distance)\n",
    "print()\n",
    "print(len(point_pair), point_pair )\n"
   ]
  },
  {
   "cell_type": "markdown",
   "metadata": {},
   "source": [
    "## Grid Cell Processing Method\n"
   ]
  },
  {
   "cell_type": "code",
   "execution_count": 0,
   "metadata": {
    "application/vnd.databricks.v1+cell": {
     "cellMetadata": {
      "byteLimit": 2048000,
      "rowLimit": 10000
     },
     "inputWidgets": {},
     "nuid": "aa2c0311-0e49-4fc6-a6af-9e74b582662b",
     "showTitle": false,
     "title": ""
    }
   },
   "outputs": [
    {
     "name": "stdout",
     "output_type": "stream",
     "text": [
      "Distance = 0.75\n",
      "Cell Size = 0.75\n",
      "\n",
      "8 [('Pt01', 'Pt14'), ('Pt03', 'Pt10'), ('Pt07', 'Pt15'), ('Pt06', 'Pt09'), ('Pt11', 'Pt17'), ('Pt01', 'Pt15'), ('Pt05', 'Pt07'), ('Pt05', 'Pt15')]\n"
     ]
    }
   ],
   "source": [
    "# Threshold distance and grid cell size as described in the assignment description\n",
    "threshold_distance = 0.75\n",
    "cell_size = 0.75\n",
    "\n",
    "# Read data from CSV files from the DataBricks directory\n",
    "files = sc.textFile(\"dbfs:/FileStore/tables/assignment1\")\n",
    "\n",
    "# Same function from the brute force method\n",
    "def parse_csv_line(line):\n",
    "    id, x, y = line.split(\",\")\n",
    "    return (id, float(x), float(y))\n",
    "\n",
    "# Persist the points RDD to avoid recomputation\n",
    "points = files.map(parse_csv_line).persist()  \n",
    "\n",
    "# A function to calculate the grid cell coordinates for a given point\n",
    "def calculate_cell_coordinates(point, cell_size):\n",
    "    x_cell = math.floor(point[1] / cell_size)\n",
    "    y_cell = math.floor(point[2] / cell_size)\n",
    "    return (x_cell, y_cell)\n",
    "\n",
    "# A function to generate grid cell keys for a point's home cell and adjacent cells\n",
    "def generate_cell_keys(point, cell_size):\n",
    "    x_cell, y_cell = calculate_cell_coordinates(point, cell_size)\n",
    "    cell_keys = []\n",
    "    for i in range(-1, 2):\n",
    "        for j in range(-1, 2):\n",
    "            cell_keys.append((x_cell + i, y_cell + j))\n",
    "    return cell_keys\n",
    "\n",
    "# Map each point to its home cell and adjacent cells\n",
    "point_cells = points.flatMap(lambda point: [(cell_key, point) for cell_key in generate_cell_keys(point, cell_size)])\n",
    "\n",
    "# Group points by cell key\n",
    "cell_points = point_cells.groupByKey()\n",
    "\n",
    "# A function to check if two points are within the threshold distance\n",
    "def check_distance(point1, point2, threshold_distance):\n",
    "    distance = math.sqrt((point1[1] - point2[1]) ** 2 + (point1[2] - point2[2]) ** 2)\n",
    "    return distance <= threshold_distance\n",
    "\n",
    "# A function to generate all unique pairs of points within each cell and filter based on distance\n",
    "def find_close_pairs(cell):\n",
    "    points = list(cell[1])  # Convert point iterator to a list\n",
    "    close_pairs = []\n",
    "    for i in range(len(points)):\n",
    "        for j in range(i + 1, len(points)):\n",
    "            if check_distance(points[i], points[j], threshold_distance):\n",
    "                close_pairs.append((points[i][0], points[j][0]))\n",
    "    return close_pairs\n",
    "\n",
    "# Find close pairs within each cell and collect the results\n",
    "close_pairs = cell_points.flatMap(find_close_pairs).distinct()\n",
    "\n",
    "# Printing set threshold_distance, cell size, and the number of point pairs\n",
    "print(\"Distance =\", threshold_distance)\n",
    "print(\"Cell Size =\", cell_size)\n",
    "print()\n",
    "print(close_pairs.count(), close_pairs.collect())\n"
   ]
  }
 ],
 "metadata": {
  "application/vnd.databricks.v1+notebook": {
   "dashboards": [],
   "language": "python",
   "notebookMetadata": {
    "pythonIndentUnit": 4
   },
   "notebookName": "assignment1_notebook",
   "widgets": {}
  },
  "kernelspec": {
   "display_name": "Python 3 (ipykernel)",
   "language": "python",
   "name": "python3"
  },
  "language_info": {
   "codemirror_mode": {
    "name": "ipython",
    "version": 3
   },
   "file_extension": ".py",
   "mimetype": "text/x-python",
   "name": "python",
   "nbconvert_exporter": "python",
   "pygments_lexer": "ipython3",
   "version": "3.9.12"
  }
 },
 "nbformat": 4,
 "nbformat_minor": 1
}
